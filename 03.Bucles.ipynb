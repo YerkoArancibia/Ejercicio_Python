{
 "cells": [
  {
   "cell_type": "markdown",
   "id": "85a941d8",
   "metadata": {},
   "source": [
    "<center> <h1 style=\"background-color: blue; border-radius: 30px;\">Que es un iterable</h1> </center>\n",
    "\n",
    "- Como se menciona en su nombre, un iterable es un objeto que se puede iterar sobre el, es decir, que se puede recorer sus elementos uno a uno.\n",
    "- Es aquel objeto que se puede pasar como un parametro de la funcion **iter**.\n",
    "- Un iterador es un objeto que define un mecanismo para recorrer los elementos del iterable asociado.\n",
    "\n",
    "- **Algunos objetos iterables:**\n",
    "1. Lista.\n",
    "2. Tupla.\n",
    "3. Diccionarios.\n",
    "4. Strings."
   ]
  },
  {
   "cell_type": "code",
   "execution_count": 4,
   "id": "9e5c6e19",
   "metadata": {},
   "outputs": [
    {
     "data": {
      "text/plain": [
       "'4'"
      ]
     },
     "execution_count": 4,
     "metadata": {},
     "output_type": "execute_result"
    }
   ],
   "source": [
    "nums = '4,5,6,7,8'\n",
    "it = iter(nums)\n",
    "\n",
    "next(it) #Imprime 4\n",
    "#next(it) #Imprime 5\n",
    "#next(it) #Imprime 6\n",
    "#..."
   ]
  },
  {
   "cell_type": "markdown",
   "id": "c792012d",
   "metadata": {},
   "source": [
    "<center> <h1 style=\"background-color: blue; border-radius: 30px;\">Bucle for en Python</h1> </center>"
   ]
  },
  {
   "cell_type": "code",
   "execution_count": null,
   "id": "64fa7752",
   "metadata": {},
   "outputs": [],
   "source": []
  }
 ],
 "metadata": {
  "kernelspec": {
   "display_name": "Python 3",
   "language": "python",
   "name": "python3"
  },
  "language_info": {
   "codemirror_mode": {
    "name": "ipython",
    "version": 3
   },
   "file_extension": ".py",
   "mimetype": "text/x-python",
   "name": "python",
   "nbconvert_exporter": "python",
   "pygments_lexer": "ipython3",
   "version": "3.11.2"
  }
 },
 "nbformat": 4,
 "nbformat_minor": 5
}
