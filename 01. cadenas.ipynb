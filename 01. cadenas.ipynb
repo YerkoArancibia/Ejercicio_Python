{
 "cells": [
  {
   "cell_type": "markdown",
   "metadata": {},
   "source": [
    "<center> <h1 style=\"background-color: green; border-radius: 30px;\">Cadenas o String en Python</h1> </center>"
   ]
  },
  {
   "cell_type": "markdown",
   "metadata": {},
   "source": [
    "1- Una cadena o \"string\" en python puede estar definida por comillas simples **('Sting')**, comillas dobles **(\"STRING\")** o pueden estar vacias **(' ' , \" \")**, las cuales no estan limitadas en tamaño, en donde su único limite es la memoria de nuestro ordenador. \n",
    "\n",
    "2- En python el uso de comillas dobles o simples en un string no esta exento, para su correcta aplicación usaremos secuencias de escape. Dentro de Python existen muchisimas pero nos enfocaremos en este caso particular, para ello se utiliza un **\"\\\" (BACKSLASH)**, esto nos permite insertar más de una comilla dentro de un string."
   ]
  },
  {
   "cell_type": "code",
   "execution_count": 10,
   "metadata": {},
   "outputs": [
    {
     "name": "stdout",
     "output_type": "stream",
     "text": [
      "String en python con comillas dobles\n",
      "String en python con comillas simples\n",
      "String con más \" de una ' comilla\n"
     ]
    }
   ],
   "source": [
    "cadena_1 = \"String en python con comillas dobles\"\n",
    "cadena_2 = 'String en python con comillas simples'\n",
    "\n",
    "doble_comillas = \"String con más \\\" de una \\' comilla\"\n",
    "\n",
    "print(cadena_1)\n",
    "print(cadena_2)\n",
    "print(doble_comillas)"
   ]
  },
  {
   "cell_type": "markdown",
   "metadata": {},
   "source": [
    "<center> <h1 style=\"background-color: green; border-radius: 30px;\">Comentarios en Python</h1> </center>"
   ]
  },
  {
   "cell_type": "markdown",
   "metadata": {},
   "source": [
    "Los comentarios en Python son lineas de texto, los cuales permiten indicar un comentario a nuestro código, con la finalidad de agregar mensaje que indiquen alguna situación en especifico, un mnesaje para quien revise el código o dar inidicación a algo en especifico. Estos comentarios dentro de nuestro código es importante indicar que no se ejecutan o producen una salida.\n",
    "\n",
    "Dentro de Python podemos indicar un comentario de diferentes maneras, donde algunas formas son:"
   ]
  },
  {
   "cell_type": "code",
   "execution_count": 11,
   "metadata": {},
   "outputs": [
    {
     "data": {
      "text/plain": [
       "' \\n    Este es un comentario\\n    de multiples lineas\\n    con Python\\n'"
      ]
     },
     "execution_count": 11,
     "metadata": {},
     "output_type": "execute_result"
    }
   ],
   "source": [
    "# Este es un comentario\n",
    "\n",
    "\"\"\" \n",
    "    Este es un comentario\n",
    "    de multiples lineas\n",
    "    con Python\n",
    "\"\"\""
   ]
  },
  {
   "cell_type": "markdown",
   "metadata": {},
   "source": [
    "<center> <h1 style=\"background-color: blue; border-radius: 30px;\">Metodos String en Python</h1> </center>"
   ]
  },
  {
   "cell_type": "markdown",
   "metadata": {},
   "source": [
    "En python, un método es una función asociada a un objeto (POO), generalmente a una instancia de una clase. Los métodos definen el comportamiento de los objetos y permiten realizar operaciones especificas sobre ellos. \n",
    "Los diferentes métodos asociados a los objetos de tipo str (cadenas) permiten realizar diversas operaciones de manipulación, transformación, búsqueda o extracción de información específica de dichas cadenas."
   ]
  },
  {
   "cell_type": "code",
   "execution_count": 12,
   "metadata": {},
   "outputs": [
    {
     "name": "stdout",
     "output_type": "stream",
     "text": [
      "Hello, and welcome to my world\n"
     ]
    }
   ],
   "source": [
    "#Metodo capitalize()\n",
    "#El método string.capitalize() convierte el primero caracter en MAYUSCUALA contenido dentro de una string.\n",
    "\n",
    "texto = \"hello, and welcome to my world\"\n",
    "#Hello, and welcome to my world\n",
    "print(texto.capitalize())"
   ]
  },
  {
   "cell_type": "code",
   "execution_count": 13,
   "metadata": {},
   "outputs": [
    {
     "name": "stdout",
     "output_type": "stream",
     "text": [
      "hello, and welcome to my world\n"
     ]
    }
   ],
   "source": [
    "#Metodo lower()\n",
    "#El método string.lower() convierte todos los caracteresestán en minusculas contenidos dentro de una string.\n",
    "\n",
    "texto = \"Hello, and welcome to my world\"\n",
    "#hello, and welcome to my world\n",
    "print(texto.lower())"
   ]
  },
  {
   "cell_type": "code",
   "execution_count": null,
   "metadata": {},
   "outputs": [],
   "source": [
    "#Metodo upper()\n",
    "#El método string.upper() convierte todos los caracteres en MAYUSCULA contenidos dentro de una string.\n",
    "\n",
    "texto = \"Hello, and welcome to my world\" \n",
    "#HELLO, AND WELCOME TO MY WORLD\n",
    "print(texto.upper())"
   ]
  },
  {
   "cell_type": "code",
   "execution_count": null,
   "metadata": {},
   "outputs": [],
   "source": [
    "#Meotodo title()\n",
    "#El método string.title(), convierte el primer caracter de cada palabra en MAYÚSCULAS contenido dentro de una string.\n",
    "\n",
    "texto = \"Hello, and welcome to my world\"\n",
    "#Hello, And Welcome To My World\n",
    "print(texto.title())"
   ]
  },
  {
   "cell_type": "code",
   "execution_count": null,
   "metadata": {},
   "outputs": [],
   "source": [
    "#Metodo replace()\n",
    "#El método string.replace() reemplaza una parte predefinida por un valor predefinido dentro de una string.\n",
    "\n",
    "texto = \"Hello, and welcome to my world\"\n",
    "print(texto.replace(\"welcome\",\"bienvenidos\"))\n",
    "#Hello, and bienvenidos to my world\n",
    "\n",
    "#Los valores predefinidos a reemplazar se pueden contener también dentro de variables\n",
    "texto = \"Hello, and welcome to my world\"\n",
    "frase_1 = \"bienvenidos\"\n",
    "frase_2 = \"welcome\"\n",
    "print(texto.replace(frase_2,frase_1))\n",
    "#Hello, and bienvenidos to my world"
   ]
  },
  {
   "cell_type": "code",
   "execution_count": null,
   "metadata": {},
   "outputs": [],
   "source": [
    "#Metodo find()\n",
    "#El método string.find()\n",
    "# Se utiliza para buscar la primer ocurrencia de una subcadena y devuelva la posición de la subcadena de la encuentra.\n",
    "# En caso de no encontrar la subcadena este método devuelve un -1.\n",
    "\n",
    "cadena = \"Hola, soy una cadena de ejemplo\"\n",
    "subcadena = \"cadena\"\n",
    "\n",
    "posición = cadena.find(subcadena)\n",
    "print(f\"La subcadena '{subcadena}' se encuentra en la posición '{posición}'\")\n",
    "\n",
    "cadena = \"Hola, soy una cadena de ejemplo\"\n",
    "subcadena = \"Python\"\n",
    "\n",
    "posición = cadena.find(subcadena)\n",
    "print(f\"La subcadena '{subcadena}' no se encuentra en la cadena '{posición}'\")\n",
    "\n",
    "#El método find también puede buscar una subcadena en un lugar especifico respecto a la posición, con un valor de inicio y fin.\n",
    "\n",
    "cadena = \"Hola, soy una cadena de ejemplo\"\n",
    "subcadena = \"una\"\n",
    "\n",
    "posición = cadena.find(subcadena, 5, 15)\n",
    "print(f\"La subcadena {subcadena} se encuentra en la posición {posición}\")"
   ]
  },
  {
   "cell_type": "code",
   "execution_count": null,
   "metadata": {},
   "outputs": [],
   "source": [
    "#Método rfind()\n",
    "# El método string.rfind() devuelve la ultima ocurrencia de una subcadena dentro de un cadena en Python.\n",
    "# Al igual que en string.find(), si no encuentra la subcadena detro de al cadena, devolvera un valor -1.\n",
    "# Tambien este método permite hacer una busqueda con un indice especifico, con un valor de inicio a fin.\n",
    "\n",
    "#Método normal\n",
    "texto = \"Mi casa, su casa\"\n",
    "posicion = texto.rfind(\"casa\")\n",
    "print(f\"La subcadena casa se encuentra en la posición {posicion}\")\n",
    "\n",
    "#Método con resultado negativo\n",
    "texto = \"Mi casa, su casa\"\n",
    "posicion = texto.rfind(\"Hola\")\n",
    "print(f\"La subcadena 'Hola' no se encuentra en la subcadena{posicion}\")\n",
    "\n",
    "#Método con busqueda con indice\n",
    "texto = \"Mi casa, su casa\"\n",
    "posicion = texto.rfind(\"casa\",2,10)\n",
    "print(f\"La subcadena casa se encuentra en la posición {posicion}, dentro de los valores '2' y '10' \")"
   ]
  },
  {
   "cell_type": "code",
   "execution_count": null,
   "metadata": {},
   "outputs": [],
   "source": [
    "#Metodo index()\n",
    "\"\"\"\n",
    "1. El metodo index encuentra la primera aparación del valor especificado.\n",
    "2. El metodo index genera una excepción si no se encuentra el valor.\n",
    "\n",
    "Si no encuentra el valor el metodo index() devuelve una excepción de error.\n",
    "\"\"\"\n",
    "\n",
    "texto = \"Hello, and welcome to my world\"\n",
    "print(texto.index(\"a\"))\n",
    "\n",
    "\"\"\"\n",
    "El metodo index(), puede busca en un intervalo predeterminado un valor especifico.\n",
    "\"\"\"\n",
    "texto = \"Hello, and welcome to my world\"\n",
    "print(texto.index(\"z\", 5, 30))"
   ]
  },
  {
   "cell_type": "code",
   "execution_count": null,
   "metadata": {},
   "outputs": [],
   "source": [
    "#Método join()\n",
    "# El método string.join() une todos los elementos dentro de un iterable empleando un separador\n",
    "\n",
    "#Elementos de una lista, con separación por \",\"\n",
    "frutas = [\"Manzana\", \"Platano\", \"Naranja\", \"Frutilla\", \"Sandia\"]\n",
    "print(f\"Diferentes frutas dentro de una lista ; {frutas}\")\n",
    "\n",
    "#Elementos de la lista anterior, unidos por un separador predefinido\n",
    "lista_fruta = \" \".join(frutas)\n",
    "print(f\"Diferentes frutas con el método join: {lista_fruta}\")\n",
    "\n",
    "\n",
    "\"\"\"\n",
    "Cómo se muestra en pantalla \\'fruta\\' se imprime como una lista, la que contiene diferentes elementos \n",
    "que en este caso son diferentes frutas.\n",
    "\n",
    "En cambio cuando empleaños el método string.join(), este transforma dicha lista en una cadena y luego\n",
    "esta devuelve todos los elementos de un iterable separados por un separados predefinido. Dicho separador\n",
    "se debe indicar como una cadena, si no se hace esto la salida presentara un error.\n",
    "\"\"\""
   ]
  },
  {
   "cell_type": "code",
   "execution_count": null,
   "metadata": {},
   "outputs": [],
   "source": [
    "# Método split()\n",
    "# El método string.split([sep[, maxsplit]]) divide una cadena en una lista de subcadenas.\n",
    "# La división se realiza en cada ocurrencia del separador especificado (sep).\n",
    "# Si sep no se especifica o es None, la división se realiza en cualquier espacio en blanco.\n",
    "# El argumento opcional maxsplit especifica el número máximo de divisiones a realizar.\n",
    "\n",
    "\"\"\"\n",
    "El método split() es fundamental para procesar datos en formato de texto donde los elementos están\n",
    "delimitados por un carácter específico, como comas en archivos CSV o espacios en frases. Permite\n",
    "transformar una cadena plana en una estructura de datos más manejable como una lista.\n",
    "\"\"\"\n",
    "\n",
    "# Dividir una cadena por espacios (por defecto)\n",
    "texto = \"Python es un lenguaje genial.\"\n",
    "palabras = texto.split()\n",
    "print(palabras)\n",
    "\n",
    "# Dividir una cadena por un separador específico (coma)\n",
    "datos = \"manzana,banana,naranja\"\n",
    "frutas = datos.split(\",\")\n",
    "print(frutas)\n",
    "\n",
    "# Dividir una cadena con un número máximo de divisiones\n",
    "log = \"ERROR: File not found - Line 123\"\n",
    "partes_log = log.split(\":\", 1)\n",
    "print(partes_log)"
   ]
  },
  {
   "cell_type": "code",
   "execution_count": null,
   "metadata": {},
   "outputs": [],
   "source": [
    "#Método strip()\n",
    "#El método string.strip() permite eliminar los espacios en blancos al principio y al fin de un string.\n",
    "#Tambien puede eliminar caracteres especificos si son proporcionados en un argumentos.\n",
    "\n",
    "\"\"\"\n",
    "El método strip() es útil para limpiar datos de entrada, como nombres de archivos o valores de entrada de usuarios,\n",
    "eliminado los caracteres no deseados al principio y al final. Es un método fundamental en Python para trabajar con\n",
    "cadenas de texto.\n",
    "\"\"\"\n",
    "\n",
    "#Eliminar espacio en blamco\n",
    "texto = \" Hola, mundo! \"\n",
    "texto_nuevo = texto.strip()\n",
    "print(texto_nuevo)\n",
    "\n",
    "#Eliminar caracteres especificos\n",
    "texto = \"! Hoy es un día, muy increible !\"\n",
    "texto_nuevo = texto.strip(\"! \")\n",
    "print(texto_nuevo)\n",
    "\n",
    "#Eliminar espacios y comas al principio y al final\n",
    "texto = \",, Hola, mundo ,,\"\n",
    "texto_nuevo = texto.strip(\", \")\n",
    "print(texto_nuevo)"
   ]
  },
  {
   "cell_type": "code",
   "execution_count": null,
   "metadata": {},
   "outputs": [],
   "source": [
    "# Método lstrip()\n",
    "# El método string.lstrip([chars]) devuelve una copia de la cadena con los caracteres iniciales eliminados.\n",
    "# Si chars no se especifica o es None, se eliminan los caracteres de espacio en blanco iniciales.\n",
    "# El argumento chars es una cadena que especifica el conjunto de caracteres a eliminar del inicio.\n",
    "\n",
    "\"\"\"\n",
    "El método lstrip() es útil para limpiar cadenas que tienen caracteres no deseados al principio, como\n",
    "espacios en blanco adicionales o símbolos de formato. Es común usarlo al procesar texto o datos\n",
    "donde la consistencia en el inicio de la cadena es importante.\n",
    "\"\"\"\n",
    "\n",
    "# Eliminar espacios en blanco iniciales\n",
    "texto = \"   Texto con espacios al inicio.\"\n",
    "texto_limpio = texto.lstrip()\n",
    "print(texto_limpio)\n",
    "\n",
    "# Eliminar caracteres específicos del inicio\n",
    "codigo = \"---ABC-123\"\n",
    "codigo_limpio = codigo.lstrip(\"-\")\n",
    "print(codigo_limpio)\n",
    "\n",
    "# Eliminar múltiples caracteres del inicio\n",
    "identificador = \"000123XYZ\"\n",
    "identificador_limpio = identificador.lstrip(\"0\")\n",
    "print(identificador_limpio)\n"
   ]
  },
  {
   "cell_type": "code",
   "execution_count": null,
   "metadata": {},
   "outputs": [],
   "source": [
    "# Método rstrip()\n",
    "# El método string.rstrip([chars]) devuelve una copia de la cadena con los caracteres finales eliminados.\n",
    "# Si chars no se especifica o es None, se eliminan los caracteres de espacio en blanco finales.\n",
    "# El argumento chars es una cadena que especifica el conjunto de caracteres a eliminar del final.\n",
    "\n",
    "\"\"\"\n",
    "El método rstrip() es similar a lstrip(), pero opera en el extremo derecho de la cadena. Se utiliza\n",
    "para eliminar caracteres no deseados al final de una cadena, como espacios en blanco o terminadores\n",
    "de línea.\n",
    "\"\"\"\n",
    "\n",
    "# Eliminar espacios en blanco finales\n",
    "texto = \"Texto con espacios al final.   \"\n",
    "texto_limpio = texto.rstrip()\n",
    "print(texto_limpio)\n",
    "\n",
    "# Eliminar caracteres específicos del final\n",
    "nombre_archivo = \"documento.txt...\"\n",
    "nombre_archivo_limpio = nombre_archivo.rstrip(\".\")\n",
    "print(nombre_archivo_limpio)\n",
    "\n",
    "# Eliminar múltiples caracteres del final\n",
    "mensaje = \"¡Hola!@@@\"\n",
    "mensaje_limpio = mensaje.rstrip(\"@\")\n",
    "print(mensaje_limpio)\n"
   ]
  },
  {
   "cell_type": "code",
   "execution_count": null,
   "metadata": {},
   "outputs": [],
   "source": [
    "# Método count()\n",
    "# El método string.count(sub[, start[, end]]) devuelve el número de ocurrencias no superpuestas\n",
    "# de la subcadena sub dentro de la cadena.\n",
    "# Los argumentos opcionales start y end definen la porción de la cadena donde buscar.\n",
    "\n",
    "\"\"\"\n",
    "El método count() es esencial para analizar texto y determinar la frecuencia de aparición de caracteres,\n",
    "palabras o patrones específicos. Es útil en tareas como el análisis de datos textuales, la validación\n",
    "y el procesamiento de lenguaje natural.\n",
    "\"\"\"\n",
    "\n",
    "# Contar la ocurrencia de una subcadena\n",
    "texto = \"El sol brilla en el cielo azul.\"\n",
    "conteo_el = texto.lower().count(\"el\")\n",
    "print(conteo_el)\n",
    "\n",
    "# Contar la ocurrencia de un carácter en un rango específico\n",
    "frase = \"murciélago\"\n",
    "conteo_a_rango = frase.count(\"a\", 3, 8)\n",
    "print(conteo_a_rango)\n",
    "\n",
    "# Contar la ocurrencia de una palabra completa (sensible a mayúsculas)\n",
    "poema = \"Rosa, rosa tan maravillosa, qué hermosa rosa.\"\n",
    "conteo_rosa = poema.count(\"rosa\")\n",
    "print(conteo_rosa)"
   ]
  },
  {
   "cell_type": "code",
   "execution_count": null,
   "metadata": {},
   "outputs": [],
   "source": [
    "# Método format()\n",
    "# El método string.format(*args, **kwargs) realiza una operación de formato de cadena.\n",
    "# La cadena puede contener campos de reemplazo {}, que se sustituyen con los argumentos posicionales\n",
    "# o con nombre pasados al método.\n",
    "\n",
    "\"\"\"\n",
    "El método format() es una forma poderosa y flexible de construir cadenas dinámicamente, insertando\n",
    "valores de variables o expresiones en lugares específicos. Mejora la legibilidad del código en\n",
    "comparación con la concatenación simple de cadenas.\n",
    "\"\"\"\n",
    "\n",
    "# Formateo con argumentos posicionales\n",
    "nombre = \"Ricardo\"\n",
    "edad = 35\n",
    "mensaje = \"Mi nombre es {} y tengo {} años.\".format(nombre, edad)\n",
    "print(mensaje)\n",
    "\n",
    "# Formateo con argumentos nombrados (keywords)\n",
    "datos = {\"ciudad\": \"Buenos Aires\", \"pais\": \"Argentina\"}\n",
    "informacion = \"Vivo en {ciudad}, {pais}.\".format(**datos)\n",
    "print(informacion)\n",
    "\n",
    "# Formateo con especificaciones de formato\n",
    "precio = 49.99\n",
    "mensaje_precio = \"El precio es de {:.2f} dólares.\".format(precio)\n",
    "print(mensaje_precio)"
   ]
  },
  {
   "cell_type": "markdown",
   "metadata": {},
   "source": [
    "<center><h1 style=\"background-color: red; border-radius: 30px;\">Slicing</h1></center>"
   ]
  },
  {
   "cell_type": "markdown",
   "metadata": {},
   "source": [
    "En programación, el \"Slicing\" (o segmentación) es una tecnica que permite extraer subconjuntos de elementos de una secuencia (como listas, cadenas de texto, tuplas, etc.) utilizando una sintaxis especifica que indica el rango de elementos a extraer.\n",
    "\n",
    "Las formas de aplicar un slicing son diversas dentro de python"
   ]
  },
  {
   "cell_type": "code",
   "execution_count": null,
   "metadata": {},
   "outputs": [],
   "source": [
    "#Slicing de un solo elemento\n",
    "\"\"\"\n",
    "+++++++++++++++++\n",
    "+Consideraciones+\n",
    "+++++++++++++++++\n",
    "\n",
    "En el slicing de un solo elementos se especifica el elemento especifico que se quiere extraer de una cadena, lista, tupla...\n",
    "\n",
    "\"\"\"\n",
    "cadena = \"Buenos dias amigo, como va tu día\"\n",
    "#El valor del indice no puede superar el largo total de una cadena.\n",
    "print(f\"{cadena[1]}\")\n",
    "print(f\"{cadena[12]}\")\n",
    "\n",
    "\"\"\"\n",
    "+++++++++++++++++\n",
    "+Consideraciones+\n",
    "+++++++++++++++++\n",
    "\n",
    "{1} Se debe considerar que para segmentar una cadena con más de un elemento, se debe indicar un valor de inicio y fin para la segmentación.\n",
    "{2} En caso de no tener un valor inicial se considera por defecto el valor inicial \"0\" o inicio de la cadena.\n",
    "{3} En caso de no tener un valor final se considera por defecto el valor longitudinal final o fin de la cadena.\n",
    "{4} Para la separación de ambos valores, esto se haran mediante \":\"\n",
    "{5} En el caso de no especificar un valor de inicio o fin, se puede especificar el valor None\n",
    "\n",
    "\"\"\"\n",
    "\n",
    "#Slicing de más de un elemento\n",
    "cadena = \"Buenos dias amigo, como va tu día\"\n",
    "#cadena[valor_inicio : valor_final]\n",
    "print(f\"{cadena[7:23]}\")\n",
    "\n",
    "#Slicing sin un valor\n",
    "cadena = \"Buenos dias amigo, como va tu día\"\n",
    "print(cadena[:15])\n",
    "print(cadena[5:])\n",
    "print(cadena[None : 15])\n",
    "print(cadena[5 : None])\n",
    "\n",
    "\"\"\"\n",
    "+++++++++++++++++\n",
    "+Consideraciones+\n",
    "+++++++++++++++++\n",
    "\n",
    "{1} La segmentación también se puede realizar con indices de vaores negativos.\n",
    "{2} Los indices al ser negativos estos comienzan desde el -1 hasta el largo toal de la cadena-\n",
    "{3} Si un indice es negativo este se imprime desde atras hacía adelante.\n",
    "{4} El valor inicial es el valor mayor negativo y el valor final es el valor menor negativo.\n",
    "{5} Comparten las mismás propiedas con los slicing con y sin un valor\n",
    "\"\"\"\n",
    "cadena = \"La vida es corta, no desperdicies tu tiempo en cosas que no te hacen felíz.\"\n",
    "# Slicing con un solo valor negativo \n",
    "print(cadena[-4])\n",
    "\n",
    "#Slicing con más de un valor negativo\n",
    "print(f\"La longitud de la cadena es: {len(cadena)}\")\n",
    "print(cadena[-21 : -10])\n",
    "#termina 10 caracteres antes del final de la cadena\n",
    "print(cadena[0 : -10])\n",
    "\n",
    "#Slicing sin uno de los dos valores\n",
    "#Se considera None == a 0\n",
    "print(cadena[None : -21])\n",
    "#Se considera None == al final de la cadena\n",
    "print(cadena[-21 : None])\n",
    "\n",
    "\"\"\"\n",
    "+++++++++++++++++\n",
    "+Consideraciones+\n",
    "+++++++++++++++++\n",
    "\n",
    "{1}\n",
    "{2}\n",
    "{3}\n",
    "\"\"\"\n"
   ]
  }
 ],
 "metadata": {
  "kernelspec": {
   "display_name": "Python 3",
   "language": "python",
   "name": "python3"
  },
  "language_info": {
   "codemirror_mode": {
    "name": "ipython",
    "version": 3
   },
   "file_extension": ".py",
   "mimetype": "text/x-python",
   "name": "python",
   "nbconvert_exporter": "python",
   "pygments_lexer": "ipython3",
   "version": "3.11.2"
  }
 },
 "nbformat": 4,
 "nbformat_minor": 2
}
